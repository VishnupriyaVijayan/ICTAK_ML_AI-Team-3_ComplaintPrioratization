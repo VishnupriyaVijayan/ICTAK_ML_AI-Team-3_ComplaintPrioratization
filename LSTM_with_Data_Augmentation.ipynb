{
 "cells": [
  {
   "cell_type": "code",
   "execution_count": 1,
   "id": "4d172777",
   "metadata": {},
   "outputs": [
    {
     "name": "stderr",
     "output_type": "stream",
     "text": [
      "[nltk_data] Downloading package stopwords to\n",
      "[nltk_data]     C:\\Users\\vishn\\AppData\\Roaming\\nltk_data...\n",
      "[nltk_data]   Package stopwords is already up-to-date!\n",
      "[nltk_data] Downloading package wordnet to\n",
      "[nltk_data]     C:\\Users\\vishn\\AppData\\Roaming\\nltk_data...\n",
      "[nltk_data]   Package wordnet is already up-to-date!\n",
      "[nltk_data] Downloading package omw-1.4 to\n",
      "[nltk_data]     C:\\Users\\vishn\\AppData\\Roaming\\nltk_data...\n",
      "[nltk_data]   Package omw-1.4 is already up-to-date!\n"
     ]
    }
   ],
   "source": [
    "import numpy as np\n",
    "import pandas as pd\n",
    "\n",
    "# preprocessing \n",
    "import nltk\n",
    "from nltk.tokenize import word_tokenize\n",
    "nltk.download('stopwords')\n",
    "nltk.download('wordnet')\n",
    "nltk.download('omw-1.4')\n",
    "import re\n",
    "import string\n",
    "\n",
    "from sklearn.feature_extraction.text import CountVectorizer, TfidfVectorizer # bags of words and TF IDF\n",
    "\n",
    "#split dataset\n",
    "from sklearn.model_selection import train_test_split\n",
    "from sklearn.model_selection import StratifiedKFold # For stratified splitting (helpful in imbalanced data)\n",
    "from sklearn.preprocessing import MultiLabelBinarizer \n",
    "\n",
    "# analyze result\n",
    "from sklearn import metrics\n",
    "from sklearn.metrics import precision_score, recall_score, f1_score, classification_report, confusion_matrix , make_scorer\n",
    "# cnn\n",
    "from keras.layers import Dropout\n",
    "import keras\n",
    "from keras.models import Sequential\n",
    "from keras.layers import Dense\n",
    "from keras.layers import LSTM\n",
    "from keras.layers import BatchNormalization\n",
    "from keras.layers import MaxPooling2D\n",
    "\n",
    "# Random forest\n",
    "from sklearn.ensemble import RandomForestClassifier\n",
    "from sklearn.naive_bayes import GaussianNB\n",
    "from sklearn.linear_model import LogisticRegression\n",
    "\n",
    "\n",
    "import warnings\n",
    "warnings.filterwarnings(\"ignore\")"
   ]
  },
  {
   "cell_type": "code",
   "execution_count": 2,
   "id": "b6b377a1",
   "metadata": {},
   "outputs": [
    {
     "data": {
      "text/html": [
       "<div>\n",
       "<style scoped>\n",
       "    .dataframe tbody tr th:only-of-type {\n",
       "        vertical-align: middle;\n",
       "    }\n",
       "\n",
       "    .dataframe tbody tr th {\n",
       "        vertical-align: top;\n",
       "    }\n",
       "\n",
       "    .dataframe thead th {\n",
       "        text-align: right;\n",
       "    }\n",
       "</style>\n",
       "<table border=\"1\" class=\"dataframe\">\n",
       "  <thead>\n",
       "    <tr style=\"text-align: right;\">\n",
       "      <th></th>\n",
       "      <th>Unnamed: 0</th>\n",
       "      <th>Sentence</th>\n",
       "      <th>Sentiment</th>\n",
       "    </tr>\n",
       "  </thead>\n",
       "  <tbody>\n",
       "    <tr>\n",
       "      <th>0</th>\n",
       "      <td>0</td>\n",
       "      <td>The GeoSolutions technology will leverage Bene...</td>\n",
       "      <td>0</td>\n",
       "    </tr>\n",
       "    <tr>\n",
       "      <th>1</th>\n",
       "      <td>1</td>\n",
       "      <td>For the last quarter of 2010 , Componenta 's n...</td>\n",
       "      <td>0</td>\n",
       "    </tr>\n",
       "    <tr>\n",
       "      <th>2</th>\n",
       "      <td>2</td>\n",
       "      <td>According to the Finnish-Russian Chamber of Co...</td>\n",
       "      <td>0</td>\n",
       "    </tr>\n",
       "    <tr>\n",
       "      <th>3</th>\n",
       "      <td>3</td>\n",
       "      <td>The Swedish buyout firm has sold its remaining...</td>\n",
       "      <td>0</td>\n",
       "    </tr>\n",
       "    <tr>\n",
       "      <th>4</th>\n",
       "      <td>4</td>\n",
       "      <td>$SPY wouldn't be surprised to see a green close</td>\n",
       "      <td>0</td>\n",
       "    </tr>\n",
       "  </tbody>\n",
       "</table>\n",
       "</div>"
      ],
      "text/plain": [
       "   Unnamed: 0                                           Sentence  Sentiment\n",
       "0           0  The GeoSolutions technology will leverage Bene...          0\n",
       "1           1  For the last quarter of 2010 , Componenta 's n...          0\n",
       "2           2  According to the Finnish-Russian Chamber of Co...          0\n",
       "3           3  The Swedish buyout firm has sold its remaining...          0\n",
       "4           4    $SPY wouldn't be surprised to see a green close          0"
      ]
     },
     "execution_count": 2,
     "metadata": {},
     "output_type": "execute_result"
    }
   ],
   "source": [
    "\n",
    "# Exploratory analysis of data\n",
    "data=pd.read_csv(\"file_dataAug.csv\",encoding='unicode_escape') # Augmented data \n",
    "data.head()"
   ]
  },
  {
   "cell_type": "code",
   "execution_count": 3,
   "id": "465b92e9",
   "metadata": {},
   "outputs": [
    {
     "name": "stdout",
     "output_type": "stream",
     "text": [
      "<class 'pandas.core.frame.DataFrame'>\n",
      "RangeIndex: 10136 entries, 0 to 10135\n",
      "Data columns (total 2 columns):\n",
      " #   Column     Non-Null Count  Dtype \n",
      "---  ------     --------------  ----- \n",
      " 0   Sentence   10136 non-null  object\n",
      " 1   Sentiment  10136 non-null  int64 \n",
      "dtypes: int64(1), object(1)\n",
      "memory usage: 158.5+ KB\n"
     ]
    }
   ],
   "source": [
    "\n",
    "data.drop(columns=['Unnamed: 0'],inplace=True)\n",
    "data.info()"
   ]
  },
  {
   "cell_type": "code",
   "execution_count": 4,
   "id": "dde9757d",
   "metadata": {},
   "outputs": [
    {
     "name": "stdout",
     "output_type": "stream",
     "text": [
      "<class 'pandas.core.frame.DataFrame'>\n",
      "Int64Index: 10071 entries, 0 to 10135\n",
      "Data columns (total 2 columns):\n",
      " #   Column     Non-Null Count  Dtype \n",
      "---  ------     --------------  ----- \n",
      " 0   Sentence   10071 non-null  object\n",
      " 1   Sentiment  10071 non-null  int64 \n",
      "dtypes: int64(1), object(1)\n",
      "memory usage: 236.0+ KB\n"
     ]
    }
   ],
   "source": [
    "data=data.drop_duplicates()\n",
    "data.info()\n",
    "     "
   ]
  },
  {
   "cell_type": "code",
   "execution_count": 5,
   "id": "521dba6a",
   "metadata": {},
   "outputs": [
    {
     "data": {
      "text/plain": [
       "<AxesSubplot:>"
      ]
     },
     "execution_count": 5,
     "metadata": {},
     "output_type": "execute_result"
    },
    {
     "data": {
      "image/png": "[encoded data removed]",
      "text/plain": [
       "<Figure size 432x288 with 1 Axes>"
      ]
     },
     "metadata": {
      "needs_background": "light"
     },
     "output_type": "display_data"
    }
   ],
   "source": [
    "data.Sentiment.value_counts().plot.bar()"
   ]
  },
  {
   "cell_type": "code",
   "execution_count": 6,
   "id": "e794bcce",
   "metadata": {},
   "outputs": [
    {
     "data": {
      "text/html": [
       "<div>\n",
       "<style scoped>\n",
       "    .dataframe tbody tr th:only-of-type {\n",
       "        vertical-align: middle;\n",
       "    }\n",
       "\n",
       "    .dataframe tbody tr th {\n",
       "        vertical-align: top;\n",
       "    }\n",
       "\n",
       "    .dataframe thead th {\n",
       "        text-align: right;\n",
       "    }\n",
       "</style>\n",
       "<table border=\"1\" class=\"dataframe\">\n",
       "  <thead>\n",
       "    <tr style=\"text-align: right;\">\n",
       "      <th></th>\n",
       "      <th>Sentence</th>\n",
       "      <th>Sentiment</th>\n",
       "      <th>text_clean</th>\n",
       "      <th>text_clean_nostop</th>\n",
       "    </tr>\n",
       "  </thead>\n",
       "  <tbody>\n",
       "    <tr>\n",
       "      <th>0</th>\n",
       "      <td>The GeoSolutions technology will leverage Bene...</td>\n",
       "      <td>0</td>\n",
       "      <td>[geosolutions, technology, leverage, benefon, ...</td>\n",
       "      <td>[the, geosolutions, technology, will, leverage...</td>\n",
       "    </tr>\n",
       "    <tr>\n",
       "      <th>1</th>\n",
       "      <td>For the last quarter of 2010 , Componenta 's n...</td>\n",
       "      <td>0</td>\n",
       "      <td>[last, quarter, 2010, componenta, net, sale, d...</td>\n",
       "      <td>[for, the, last, quarter, of, 2010, componenta...</td>\n",
       "    </tr>\n",
       "    <tr>\n",
       "      <th>2</th>\n",
       "      <td>According to the Finnish-Russian Chamber of Co...</td>\n",
       "      <td>0</td>\n",
       "      <td>[according, finnishrussian, chamber, commerce,...</td>\n",
       "      <td>[according, to, the, finnishrussian, chamber, ...</td>\n",
       "    </tr>\n",
       "    <tr>\n",
       "      <th>3</th>\n",
       "      <td>The Swedish buyout firm has sold its remaining...</td>\n",
       "      <td>0</td>\n",
       "      <td>[swedish, buyout, firm, sold, remaining, 224, ...</td>\n",
       "      <td>[the, swedish, buyout, firm, ha, sold, it, rem...</td>\n",
       "    </tr>\n",
       "    <tr>\n",
       "      <th>4</th>\n",
       "      <td>$SPY wouldn't be surprised to see a green close</td>\n",
       "      <td>0</td>\n",
       "      <td>[spy, wouldnt, surprised, see, green, close]</td>\n",
       "      <td>[spy, wouldnt, be, surprised, to, see, a, gree...</td>\n",
       "    </tr>\n",
       "  </tbody>\n",
       "</table>\n",
       "</div>"
      ],
      "text/plain": [
       "                                            Sentence  Sentiment  \\\n",
       "0  The GeoSolutions technology will leverage Bene...          0   \n",
       "1  For the last quarter of 2010 , Componenta 's n...          0   \n",
       "2  According to the Finnish-Russian Chamber of Co...          0   \n",
       "3  The Swedish buyout firm has sold its remaining...          0   \n",
       "4    $SPY wouldn't be surprised to see a green close          0   \n",
       "\n",
       "                                          text_clean  \\\n",
       "0  [geosolutions, technology, leverage, benefon, ...   \n",
       "1  [last, quarter, 2010, componenta, net, sale, d...   \n",
       "2  [according, finnishrussian, chamber, commerce,...   \n",
       "3  [swedish, buyout, firm, sold, remaining, 224, ...   \n",
       "4       [spy, wouldnt, surprised, see, green, close]   \n",
       "\n",
       "                                   text_clean_nostop  \n",
       "0  [the, geosolutions, technology, will, leverage...  \n",
       "1  [for, the, last, quarter, of, 2010, componenta...  \n",
       "2  [according, to, the, finnishrussian, chamber, ...  \n",
       "3  [the, swedish, buyout, firm, ha, sold, it, rem...  \n",
       "4  [spy, wouldnt, be, surprised, to, see, a, gree...  "
      ]
     },
     "execution_count": 6,
     "metadata": {},
     "output_type": "execute_result"
    }
   ],
   "source": [
    "# Data preprocessing\n",
    "\n",
    "# with removal of stopwords\n",
    "\n",
    "stopwords = nltk.corpus.stopwords.words('english')\n",
    "wn = nltk.WordNetLemmatizer()\n",
    "\n",
    "def clean_text(text):\n",
    "    text = \"\".join([word for word in text if word not in string.punctuation])\n",
    "    text_tokenize = re.split('\\W+', text)\n",
    "    text_nostop = [word for word in text_tokenize if word not in stopwords]\n",
    "    #text_stemm = [ps.stem(x) for x in text_nostop]\n",
    "    text_lemm = [wn.lemmatize(x) for x in text_nostop]\n",
    "    return text_lemm\n",
    "\n",
    "def clean_text_nostop(text):\n",
    "    text = \"\".join([word for word in text if word not in string.punctuation])\n",
    "    text_tokenize = re.split('\\W+', text)\n",
    "    text_lemm = [wn.lemmatize(x) for x in text_tokenize]\n",
    "    return text_lemm    \n",
    "\n",
    "data['text_clean'] = data['Sentence'].apply(lambda x: clean_text(x.lower()))\n",
    "data['text_clean_nostop'] = data['Sentence'].apply(lambda x: clean_text_nostop(x.lower()))\n",
    "data.head()"
   ]
  },
  {
   "cell_type": "code",
   "execution_count": 7,
   "id": "0395d5c6",
   "metadata": {},
   "outputs": [],
   "source": [
    "\n",
    "#one hot encoding of label for cnn\n",
    "y_ohe = pd.get_dummies(data['Sentiment'])\n",
    "y=data['Sentiment']"
   ]
  },
  {
   "cell_type": "code",
   "execution_count": 8,
   "id": "92f51c74",
   "metadata": {},
   "outputs": [
    {
     "name": "stdout",
     "output_type": "stream",
     "text": [
      "(10071, 15969)\n",
      "['' '0' '00' ... 'Âºo' 'Â¼' 'Ã']\n"
     ]
    }
   ],
   "source": [
    "## LSTM\n",
    "## CountVectorizer\n",
    "from sklearn.feature_extraction.text import CountVectorizer\n",
    "\n",
    "count_vect = CountVectorizer(analyzer=clean_text)\n",
    "X_counts = count_vect.fit_transform(data['Sentence'])\n",
    "print(X_counts.shape)\n",
    "#print(count_vect.get_feature_names())\n",
    "print(count_vect.get_feature_names_out())\n",
    "     "
   ]
  },
  {
   "cell_type": "code",
   "execution_count": 9,
   "id": "714b68fc",
   "metadata": {},
   "outputs": [
    {
     "data": {
      "text/html": [
       "<div>\n",
       "<style scoped>\n",
       "    .dataframe tbody tr th:only-of-type {\n",
       "        vertical-align: middle;\n",
       "    }\n",
       "\n",
       "    .dataframe tbody tr th {\n",
       "        vertical-align: top;\n",
       "    }\n",
       "\n",
       "    .dataframe thead th {\n",
       "        text-align: right;\n",
       "    }\n",
       "</style>\n",
       "<table border=\"1\" class=\"dataframe\">\n",
       "  <thead>\n",
       "    <tr style=\"text-align: right;\">\n",
       "      <th></th>\n",
       "      <th></th>\n",
       "      <th>0</th>\n",
       "      <th>00</th>\n",
       "      <th>000</th>\n",
       "      <th>000063</th>\n",
       "      <th>0008</th>\n",
       "      <th>001</th>\n",
       "      <th>002</th>\n",
       "      <th>0025</th>\n",
       "      <th>003</th>\n",
       "      <th>...</th>\n",
       "      <th>zona</th>\n",
       "      <th>zone</th>\n",
       "      <th>zoo</th>\n",
       "      <th>zu</th>\n",
       "      <th>Â</th>\n",
       "      <th>Â³</th>\n",
       "      <th>Â³EUR</th>\n",
       "      <th>Âºo</th>\n",
       "      <th>Â¼</th>\n",
       "      <th>Ã</th>\n",
       "    </tr>\n",
       "  </thead>\n",
       "  <tbody>\n",
       "    <tr>\n",
       "      <th>0</th>\n",
       "      <td>1</td>\n",
       "      <td>0</td>\n",
       "      <td>0</td>\n",
       "      <td>0</td>\n",
       "      <td>0</td>\n",
       "      <td>0</td>\n",
       "      <td>0</td>\n",
       "      <td>0</td>\n",
       "      <td>0</td>\n",
       "      <td>0</td>\n",
       "      <td>...</td>\n",
       "      <td>0</td>\n",
       "      <td>0</td>\n",
       "      <td>0</td>\n",
       "      <td>0</td>\n",
       "      <td>0</td>\n",
       "      <td>0</td>\n",
       "      <td>0</td>\n",
       "      <td>0</td>\n",
       "      <td>0</td>\n",
       "      <td>0</td>\n",
       "    </tr>\n",
       "    <tr>\n",
       "      <th>1</th>\n",
       "      <td>1</td>\n",
       "      <td>0</td>\n",
       "      <td>0</td>\n",
       "      <td>0</td>\n",
       "      <td>0</td>\n",
       "      <td>0</td>\n",
       "      <td>0</td>\n",
       "      <td>0</td>\n",
       "      <td>0</td>\n",
       "      <td>0</td>\n",
       "      <td>...</td>\n",
       "      <td>0</td>\n",
       "      <td>0</td>\n",
       "      <td>0</td>\n",
       "      <td>0</td>\n",
       "      <td>0</td>\n",
       "      <td>0</td>\n",
       "      <td>0</td>\n",
       "      <td>0</td>\n",
       "      <td>0</td>\n",
       "      <td>0</td>\n",
       "    </tr>\n",
       "    <tr>\n",
       "      <th>2</th>\n",
       "      <td>1</td>\n",
       "      <td>0</td>\n",
       "      <td>0</td>\n",
       "      <td>0</td>\n",
       "      <td>0</td>\n",
       "      <td>0</td>\n",
       "      <td>0</td>\n",
       "      <td>0</td>\n",
       "      <td>0</td>\n",
       "      <td>0</td>\n",
       "      <td>...</td>\n",
       "      <td>0</td>\n",
       "      <td>0</td>\n",
       "      <td>0</td>\n",
       "      <td>0</td>\n",
       "      <td>0</td>\n",
       "      <td>0</td>\n",
       "      <td>0</td>\n",
       "      <td>0</td>\n",
       "      <td>0</td>\n",
       "      <td>0</td>\n",
       "    </tr>\n",
       "    <tr>\n",
       "      <th>3</th>\n",
       "      <td>1</td>\n",
       "      <td>0</td>\n",
       "      <td>0</td>\n",
       "      <td>0</td>\n",
       "      <td>0</td>\n",
       "      <td>0</td>\n",
       "      <td>0</td>\n",
       "      <td>0</td>\n",
       "      <td>0</td>\n",
       "      <td>0</td>\n",
       "      <td>...</td>\n",
       "      <td>0</td>\n",
       "      <td>0</td>\n",
       "      <td>0</td>\n",
       "      <td>0</td>\n",
       "      <td>0</td>\n",
       "      <td>0</td>\n",
       "      <td>0</td>\n",
       "      <td>0</td>\n",
       "      <td>0</td>\n",
       "      <td>0</td>\n",
       "    </tr>\n",
       "    <tr>\n",
       "      <th>4</th>\n",
       "      <td>0</td>\n",
       "      <td>0</td>\n",
       "      <td>0</td>\n",
       "      <td>0</td>\n",
       "      <td>0</td>\n",
       "      <td>0</td>\n",
       "      <td>0</td>\n",
       "      <td>0</td>\n",
       "      <td>0</td>\n",
       "      <td>0</td>\n",
       "      <td>...</td>\n",
       "      <td>0</td>\n",
       "      <td>0</td>\n",
       "      <td>0</td>\n",
       "      <td>0</td>\n",
       "      <td>0</td>\n",
       "      <td>0</td>\n",
       "      <td>0</td>\n",
       "      <td>0</td>\n",
       "      <td>0</td>\n",
       "      <td>0</td>\n",
       "    </tr>\n",
       "    <tr>\n",
       "      <th>...</th>\n",
       "      <td>...</td>\n",
       "      <td>...</td>\n",
       "      <td>...</td>\n",
       "      <td>...</td>\n",
       "      <td>...</td>\n",
       "      <td>...</td>\n",
       "      <td>...</td>\n",
       "      <td>...</td>\n",
       "      <td>...</td>\n",
       "      <td>...</td>\n",
       "      <td>...</td>\n",
       "      <td>...</td>\n",
       "      <td>...</td>\n",
       "      <td>...</td>\n",
       "      <td>...</td>\n",
       "      <td>...</td>\n",
       "      <td>...</td>\n",
       "      <td>...</td>\n",
       "      <td>...</td>\n",
       "      <td>...</td>\n",
       "      <td>...</td>\n",
       "    </tr>\n",
       "    <tr>\n",
       "      <th>10066</th>\n",
       "      <td>1</td>\n",
       "      <td>0</td>\n",
       "      <td>0</td>\n",
       "      <td>0</td>\n",
       "      <td>0</td>\n",
       "      <td>0</td>\n",
       "      <td>0</td>\n",
       "      <td>0</td>\n",
       "      <td>0</td>\n",
       "      <td>0</td>\n",
       "      <td>...</td>\n",
       "      <td>0</td>\n",
       "      <td>0</td>\n",
       "      <td>0</td>\n",
       "      <td>0</td>\n",
       "      <td>0</td>\n",
       "      <td>0</td>\n",
       "      <td>0</td>\n",
       "      <td>0</td>\n",
       "      <td>0</td>\n",
       "      <td>0</td>\n",
       "    </tr>\n",
       "    <tr>\n",
       "      <th>10067</th>\n",
       "      <td>1</td>\n",
       "      <td>0</td>\n",
       "      <td>0</td>\n",
       "      <td>0</td>\n",
       "      <td>0</td>\n",
       "      <td>0</td>\n",
       "      <td>0</td>\n",
       "      <td>0</td>\n",
       "      <td>0</td>\n",
       "      <td>0</td>\n",
       "      <td>...</td>\n",
       "      <td>0</td>\n",
       "      <td>0</td>\n",
       "      <td>0</td>\n",
       "      <td>0</td>\n",
       "      <td>0</td>\n",
       "      <td>0</td>\n",
       "      <td>0</td>\n",
       "      <td>0</td>\n",
       "      <td>0</td>\n",
       "      <td>0</td>\n",
       "    </tr>\n",
       "    <tr>\n",
       "      <th>10068</th>\n",
       "      <td>1</td>\n",
       "      <td>0</td>\n",
       "      <td>0</td>\n",
       "      <td>0</td>\n",
       "      <td>0</td>\n",
       "      <td>0</td>\n",
       "      <td>0</td>\n",
       "      <td>0</td>\n",
       "      <td>0</td>\n",
       "      <td>0</td>\n",
       "      <td>...</td>\n",
       "      <td>0</td>\n",
       "      <td>0</td>\n",
       "      <td>0</td>\n",
       "      <td>0</td>\n",
       "      <td>0</td>\n",
       "      <td>0</td>\n",
       "      <td>0</td>\n",
       "      <td>0</td>\n",
       "      <td>0</td>\n",
       "      <td>0</td>\n",
       "    </tr>\n",
       "    <tr>\n",
       "      <th>10069</th>\n",
       "      <td>1</td>\n",
       "      <td>0</td>\n",
       "      <td>0</td>\n",
       "      <td>0</td>\n",
       "      <td>0</td>\n",
       "      <td>0</td>\n",
       "      <td>0</td>\n",
       "      <td>0</td>\n",
       "      <td>0</td>\n",
       "      <td>0</td>\n",
       "      <td>...</td>\n",
       "      <td>0</td>\n",
       "      <td>0</td>\n",
       "      <td>0</td>\n",
       "      <td>0</td>\n",
       "      <td>0</td>\n",
       "      <td>0</td>\n",
       "      <td>0</td>\n",
       "      <td>0</td>\n",
       "      <td>0</td>\n",
       "      <td>0</td>\n",
       "    </tr>\n",
       "    <tr>\n",
       "      <th>10070</th>\n",
       "      <td>1</td>\n",
       "      <td>0</td>\n",
       "      <td>0</td>\n",
       "      <td>0</td>\n",
       "      <td>0</td>\n",
       "      <td>0</td>\n",
       "      <td>0</td>\n",
       "      <td>0</td>\n",
       "      <td>0</td>\n",
       "      <td>0</td>\n",
       "      <td>...</td>\n",
       "      <td>0</td>\n",
       "      <td>0</td>\n",
       "      <td>0</td>\n",
       "      <td>0</td>\n",
       "      <td>0</td>\n",
       "      <td>0</td>\n",
       "      <td>0</td>\n",
       "      <td>0</td>\n",
       "      <td>0</td>\n",
       "      <td>0</td>\n",
       "    </tr>\n",
       "  </tbody>\n",
       "</table>\n",
       "<p>10071 rows × 15969 columns</p>\n",
       "</div>"
      ],
      "text/plain": [
       "          0  00  000  000063  0008  001  002  0025  003  ...  zona  zone  zoo  \\\n",
       "0      1  0   0    0       0     0    0    0     0    0  ...     0     0    0   \n",
       "1      1  0   0    0       0     0    0    0     0    0  ...     0     0    0   \n",
       "2      1  0   0    0       0     0    0    0     0    0  ...     0     0    0   \n",
       "3      1  0   0    0       0     0    0    0     0    0  ...     0     0    0   \n",
       "4      0  0   0    0       0     0    0    0     0    0  ...     0     0    0   \n",
       "...   .. ..  ..  ...     ...   ...  ...  ...   ...  ...  ...   ...   ...  ...   \n",
       "10066  1  0   0    0       0     0    0    0     0    0  ...     0     0    0   \n",
       "10067  1  0   0    0       0     0    0    0     0    0  ...     0     0    0   \n",
       "10068  1  0   0    0       0     0    0    0     0    0  ...     0     0    0   \n",
       "10069  1  0   0    0       0     0    0    0     0    0  ...     0     0    0   \n",
       "10070  1  0   0    0       0     0    0    0     0    0  ...     0     0    0   \n",
       "\n",
       "       zu  Â  Â³  Â³EUR  Âºo  Â¼  Ã  \n",
       "0       0  0   0      0    0   0  0  \n",
       "1       0  0   0      0    0   0  0  \n",
       "2       0  0   0      0    0   0  0  \n",
       "3       0  0   0      0    0   0  0  \n",
       "4       0  0   0      0    0   0  0  \n",
       "...    .. ..  ..    ...  ...  .. ..  \n",
       "10066   0  0   0      0    0   0  0  \n",
       "10067   0  0   0      0    0   0  0  \n",
       "10068   0  0   0      0    0   0  0  \n",
       "10069   0  0   0      0    0   0  0  \n",
       "10070   0  0   0      0    0   0  0  \n",
       "\n",
       "[10071 rows x 15969 columns]"
      ]
     },
     "execution_count": 9,
     "metadata": {},
     "output_type": "execute_result"
    }
   ],
   "source": [
    "X_counts_df = pd.DataFrame(X_counts.toarray())\n",
    "X_counts_df.columns = count_vect.get_feature_names()\n",
    "X_counts_df"
   ]
  },
  {
   "cell_type": "code",
   "execution_count": 10,
   "id": "1634bb0a",
   "metadata": {},
   "outputs": [
    {
     "data": {
      "text/plain": [
       "((10071, 15969), (10071, 2))"
      ]
     },
     "execution_count": 10,
     "metadata": {},
     "output_type": "execute_result"
    }
   ],
   "source": [
    "X = X_counts_df\n",
    "X.shape,y_ohe.shape"
   ]
  },
  {
   "cell_type": "code",
   "execution_count": 11,
   "id": "c3d1453e",
   "metadata": {},
   "outputs": [],
   "source": [
    "\n",
    "from sklearn.model_selection import train_test_split\n",
    "X_train, X_test, y_train, y_test = train_test_split(X, y_ohe, test_size=0.10, stratify=y_ohe,\n",
    "                                                    random_state=42)\n",
    "X_train, X_val, y_train, y_val = train_test_split(X_train,\n",
    "                                                  y_train,\n",
    "                                                  test_size=0.2, random_state=42,\n",
    "                                                  stratify=y_train)"
   ]
  },
  {
   "cell_type": "code",
   "execution_count": 12,
   "id": "8f0d58a7",
   "metadata": {},
   "outputs": [
    {
     "data": {
      "text/plain": [
       "((7250, 1, 15969), (1813, 1, 15969), (7250, 2))"
      ]
     },
     "execution_count": 12,
     "metadata": {},
     "output_type": "execute_result"
    }
   ],
   "source": [
    "train_x = np.asarray(X_train)\n",
    "train_y = np.asarray(y_train)\n",
    "validation_x = np.asarray(X_val)\n",
    "validation_y = np.asarray(y_val)\n",
    "train_x = train_x.reshape((train_x.shape[0],1,train_x.shape[1]))\n",
    "validation_x = validation_x.reshape((validation_x.shape[0],1,validation_x.shape[1]))\n",
    "train_x.shape, validation_x.shape,train_y.shape"
   ]
  },
  {
   "cell_type": "code",
   "execution_count": 13,
   "id": "5a50b1b2",
   "metadata": {},
   "outputs": [],
   "source": [
    "from math import floor\n",
    "\n",
    "from keras.models import Sequential\n",
    "from keras.optimizers import Adam, SGD, RMSprop, Adadelta, Adagrad, Adamax, Nadam, Ftrl\n",
    "from keras.layers import Dense, LSTM, Embedding, SimpleRNN,Dropout, BatchNormalization, MaxPooling2D, LeakyReLU\n",
    "\n",
    "from sklearn.model_selection import cross_val_score\n",
    "from bayes_opt import BayesianOptimization\n",
    "from sklearn.model_selection import StratifiedKFold\n",
    "\n",
    "from keras.callbacks import EarlyStopping, ModelCheckpoint\n",
    "from keras.wrappers.scikit_learn import KerasClassifier\n",
    "from sklearn.metrics import make_scorer, accuracy_score\n",
    "from tensorflow import keras\n",
    "\n",
    "score_acc = make_scorer(accuracy_score)\n",
    "LeakyReLU = LeakyReLU(alpha=0.1)\n",
    "\n",
    "import warnings\n",
    "warnings.filterwarnings(\"ignore\", category=Warning) \n",
    "warnings.filterwarnings(\"ignore\", category=DeprecationWarning)\n",
    "pd.set_option(\"display.max_columns\", None)\n",
    "\n"
   ]
  },
  {
   "cell_type": "code",
   "execution_count": 14,
   "id": "bf852cfc",
   "metadata": {},
   "outputs": [
    {
     "name": "stdout",
     "output_type": "stream",
     "text": [
      "Model: \"sequential\"\n",
      "_________________________________________________________________\n",
      "Layer (type)                 Output Shape              Param #   \n",
      "=================================================================\n",
      "lstm (LSTM)                  (None, 150)               9672000   \n",
      "_________________________________________________________________\n",
      "batch_normalization (BatchNo (None, 150)               600       \n",
      "_________________________________________________________________\n",
      "dense (Dense)                (None, 100)               15100     \n",
      "_________________________________________________________________\n",
      "dropout (Dropout)            (None, 100)               0         \n",
      "_________________________________________________________________\n",
      "dense_1 (Dense)              (None, 30)                3030      \n",
      "_________________________________________________________________\n",
      "dropout_1 (Dropout)          (None, 30)                0         \n",
      "_________________________________________________________________\n",
      "dense_2 (Dense)              (None, 2)                 62        \n",
      "=================================================================\n",
      "Total params: 9,690,792\n",
      "Trainable params: 9,690,492\n",
      "Non-trainable params: 300\n",
      "_________________________________________________________________\n",
      "None\n"
     ]
    }
   ],
   "source": [
    "\n",
    "from keras.models import Sequential\n",
    "from keras.layers import Dense\n",
    "from keras.layers import LSTM\n",
    "from keras.layers import BatchNormalization\n",
    "from keras.layers import MaxPooling2D\n",
    "\n",
    "model = Sequential()\n",
    "model.add(LSTM(150, activation='relu', input_shape=(1,train_x.shape[2])))\n",
    "model.add(BatchNormalization())\n",
    "model.add(Dense(100, activation='relu'))\n",
    "model.add(Dropout(0.4))\n",
    "model.add(Dense(30, activation='relu'))\n",
    "model.add(Dropout(0.4))\n",
    "model.add(Dense(2, activation='softmax'))\n",
    "model.compile(loss='categorical_crossentropy', optimizer='adam', metrics=['accuracy'])\n",
    "print(model.summary())\n",
    "     "
   ]
  },
  {
   "cell_type": "code",
   "execution_count": 15,
   "id": "b024f478",
   "metadata": {},
   "outputs": [
    {
     "name": "stdout",
     "output_type": "stream",
     "text": [
      "Epoch 1/10\n",
      "227/227 - 16s - loss: 0.4957 - accuracy: 0.7539 - val_loss: 0.5575 - val_accuracy: 0.8456\n",
      "Epoch 2/10\n",
      "227/227 - 17s - loss: 0.2462 - accuracy: 0.9061 - val_loss: 0.3408 - val_accuracy: 0.8897\n",
      "Epoch 3/10\n",
      "227/227 - 18s - loss: 0.1760 - accuracy: 0.9326 - val_loss: 0.2913 - val_accuracy: 0.8858\n",
      "Epoch 4/10\n",
      "227/227 - 18s - loss: 0.1540 - accuracy: 0.9383 - val_loss: 0.3671 - val_accuracy: 0.8748\n",
      "Epoch 5/10\n",
      "227/227 - 19s - loss: 0.1318 - accuracy: 0.9457 - val_loss: 0.4552 - val_accuracy: 0.8715\n",
      "Epoch 6/10\n",
      "227/227 - 18s - loss: 0.1322 - accuracy: 0.9425 - val_loss: 0.4604 - val_accuracy: 0.8687\n",
      "Epoch 7/10\n",
      "227/227 - 18s - loss: 0.1246 - accuracy: 0.9469 - val_loss: 0.4658 - val_accuracy: 0.8687\n",
      "Epoch 8/10\n",
      "227/227 - 16s - loss: 0.1056 - accuracy: 0.9510 - val_loss: 0.5599 - val_accuracy: 0.8709\n",
      "Epoch 9/10\n",
      "227/227 - 18s - loss: 0.1080 - accuracy: 0.9506 - val_loss: 0.5912 - val_accuracy: 0.8676\n",
      "Epoch 10/10\n",
      "227/227 - 17s - loss: 0.1101 - accuracy: 0.9487 - val_loss: 0.5520 - val_accuracy: 0.8660\n"
     ]
    }
   ],
   "source": [
    "\n",
    "history1=model.fit(train_x,train_y,batch_size=32, epochs=10,verbose=2,validation_data=(validation_x, validation_y ))"
   ]
  },
  {
   "cell_type": "code",
   "execution_count": 16,
   "id": "f1351ed1",
   "metadata": {},
   "outputs": [
    {
     "data": {
      "image/png": "[encoded data removed]",
      "text/plain": [
       "<Figure size 432x288 with 1 Axes>"
      ]
     },
     "metadata": {
      "needs_background": "light"
     },
     "output_type": "display_data"
    }
   ],
   "source": [
    "import matplotlib.pyplot as plt\n",
    "metrics='accuracy'\n",
    "plt.plot(history1.history[metrics])\n",
    "plt.plot(history1.history['val_'+ metrics])\n",
    "plt.xlabel('Epochs')\n",
    "plt.ylabel(metrics)\n",
    "plt.legend(['training', 'test'], loc='upper right')\n",
    "plt.show()"
   ]
  },
  {
   "cell_type": "code",
   "execution_count": 17,
   "id": "8890f8d7",
   "metadata": {},
   "outputs": [
    {
     "name": "stdout",
     "output_type": "stream",
     "text": [
      "0.8383534136546185\n"
     ]
    }
   ],
   "source": [
    "import seaborn as sns\n",
    "from sklearn.metrics import accuracy_score,confusion_matrix,classification_report\n",
    "from sklearn.metrics import recall_score,precision_score\n",
    "\n",
    "y_pred = model.predict(validation_x)\n",
    "test_pred=np.argmax(y_pred,axis=1)\n",
    "validation_y1=np.argmax(validation_y,axis=1)\n",
    "score=recall_score(test_pred,validation_y1)\n",
    "\n",
    "print(score)\n"
   ]
  },
  {
   "cell_type": "code",
   "execution_count": 18,
   "id": "40b46149",
   "metadata": {},
   "outputs": [
    {
     "name": "stdout",
     "output_type": "stream",
     "text": [
      "0.8383534136546185\n",
      "0.910577971646674\n",
      "0.8659680088251517\n"
     ]
    }
   ],
   "source": [
    "from sklearn.metrics import recall_score,precision_score,accuracy_score\n",
    "\n",
    "score=recall_score(test_pred,validation_y1)\n",
    "print(score)\n",
    "print(precision_score(test_pred,validation_y1))\n",
    "print(accuracy_score(test_pred,validation_y1))"
   ]
  },
  {
   "cell_type": "code",
   "execution_count": 19,
   "id": "363de810",
   "metadata": {},
   "outputs": [
    {
     "data": {
      "image/png": "[encoded data removed]",
      "text/plain": [
       "<Figure size 432x288 with 2 Axes>"
      ]
     },
     "metadata": {
      "needs_background": "light"
     },
     "output_type": "display_data"
    }
   ],
   "source": [
    "def plot_conf(ypred,y_test):\n",
    "    cf_matrix = confusion_matrix(ypred,y_test)\n",
    "    ax= plt.subplot()\n",
    "    sns.heatmap(cf_matrix,annot=True,ax=ax, cmap=\"BuPu\")\n",
    "    ax.set_xlabel('Predicted labels')\n",
    "    ax.set_ylabel('True labels')\n",
    "    ax.set_title('Confusion Matrix')\n",
    "    \n",
    "plot_conf( test_pred,validation_y1)"
   ]
  },
  {
   "cell_type": "code",
   "execution_count": null,
   "id": "714af921",
   "metadata": {},
   "outputs": [],
   "source": []
  },
  {
   "cell_type": "code",
   "execution_count": null,
   "id": "ca04316a",
   "metadata": {},
   "outputs": [],
   "source": []
  }
 ],
 "metadata": {
  "kernelspec": {
   "display_name": "Python 3",
   "language": "python",
   "name": "python3"
  },
  "language_info": {
   "codemirror_mode": {
    "name": "ipython",
    "version": 3
   },
   "file_extension": ".py",
   "mimetype": "text/x-python",
   "name": "python",
   "nbconvert_exporter": "python",
   "pygments_lexer": "ipython3",
   "version": "3.8.8"
  }
 },
 "nbformat": 4,
 "nbformat_minor": 5
}
