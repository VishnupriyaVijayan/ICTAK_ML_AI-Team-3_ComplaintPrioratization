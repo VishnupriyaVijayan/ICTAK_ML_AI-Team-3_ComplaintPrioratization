{
  "nbformat": 4,
  "nbformat_minor": 0,
  "metadata": {
    "colab": {
      "provenance": []
    },
    "kernelspec": {
      "name": "python3",
      "display_name": "Python 3"
    },
    "language_info": {
      "name": "python"
    }
  },
  "cells": [
    {
      "cell_type": "code",
      "execution_count": 8,
      "metadata": {
        "colab": {
          "base_uri": "https://localhost:8080/"
        },
        "id": "Gu1-m-QfpTp9",
        "outputId": "86d59847-4503-4524-e2e8-faee7f694f8d"
      },
      "outputs": [
        {
          "output_type": "stream",
          "name": "stderr",
          "text": [
            "[nltk_data] Downloading package stopwords to /root/nltk_data...\n",
            "[nltk_data]   Package stopwords is already up-to-date!\n",
            "[nltk_data] Downloading package wordnet to /root/nltk_data...\n",
            "[nltk_data]   Package wordnet is already up-to-date!\n",
            "[nltk_data] Downloading package omw-1.4 to /root/nltk_data...\n",
            "[nltk_data]   Package omw-1.4 is already up-to-date!\n"
          ]
        }
      ],
      "source": [
        "import numpy as np\n",
        "import pandas as pd\n",
        "import matplotlib.pyplot as plt\n",
        "import seaborn as sns\n",
        "\n",
        "\n",
        "# preprocessing \n",
        "import nltk\n",
        "from nltk.tokenize import word_tokenize\n",
        "nltk.download('stopwords')\n",
        "nltk.download('wordnet')\n",
        "nltk.download('omw-1.4')\n",
        "import re\n",
        "import string\n",
        "import gensim  \n",
        "from sklearn.feature_extraction.text import CountVectorizer, TfidfVectorizer # bags of words and TF IDF\n",
        "\n",
        "#split dataset\n",
        "from sklearn.model_selection import train_test_split\n",
        "from sklearn.model_selection import StratifiedKFold # For stratified splitting (helpful in imbalanced data)\n",
        "from sklearn.preprocessing import MultiLabelBinarizer \n",
        "\n",
        "# analyze result\n",
        "from sklearn import metrics\n",
        "from sklearn.metrics import precision_score, recall_score, f1_score, classification_report, confusion_matrix , make_scorer,accuracy_score\n",
        "# cnn\n",
        "from keras.layers.regularization.dropout import Dropout\n",
        "import keras\n",
        "from keras.models import Sequential\n",
        "from keras.layers import Dense\n",
        "from keras.layers import LSTM\n",
        "from keras.layers import BatchNormalization\n",
        "from keras.layers import MaxPooling2D\n",
        "\n",
        "# Random forest\n",
        "from sklearn.ensemble import RandomForestClassifier\n",
        "from sklearn.naive_bayes import GaussianNB\n",
        "from sklearn.linear_model import LogisticRegression\n",
        "\n",
        "\n",
        "import warnings\n",
        "warnings.filterwarnings(\"ignore\")"
      ]
    },
    {
      "cell_type": "code",
      "source": [
        "\n",
        "# Exploratory analysis of data\n",
        "data=pd.read_csv(\"/content/data.csv\",encoding='unicode_escape')\n",
        "data.head()"
      ],
      "metadata": {
        "colab": {
          "base_uri": "https://localhost:8080/",
          "height": 206
        },
        "id": "mXZoOn-DpuXg",
        "outputId": "04feb6ad-4671-4e2c-b3d7-8b7a17f20fd4"
      },
      "execution_count": 2,
      "outputs": [
        {
          "output_type": "execute_result",
          "data": {
            "text/plain": [
              "                                            Sentence Sentiment\n",
              "0  The GeoSolutions technology will leverage Bene...  positive\n",
              "1  $ESI on lows, down $1.50 to $2.50 BK a real po...  negative\n",
              "2  For the last quarter of 2010 , Componenta 's n...  positive\n",
              "3  According to the Finnish-Russian Chamber of Co...   neutral\n",
              "4  The Swedish buyout firm has sold its remaining...   neutral"
            ],
            "text/html": [
              "\n",
              "  <div id=\"df-28382e1c-b999-47f3-a58f-08321a58a65d\">\n",
              "    <div class=\"colab-df-container\">\n",
              "      <div>\n",
              "<style scoped>\n",
              "    .dataframe tbody tr th:only-of-type {\n",
              "        vertical-align: middle;\n",
              "    }\n",
              "\n",
              "    .dataframe tbody tr th {\n",
              "        vertical-align: top;\n",
              "    }\n",
              "\n",
              "    .dataframe thead th {\n",
              "        text-align: right;\n",
              "    }\n",
              "</style>\n",
              "<table border=\"1\" class=\"dataframe\">\n",
              "  <thead>\n",
              "    <tr style=\"text-align: right;\">\n",
              "      <th></th>\n",
              "      <th>Sentence</th>\n",
              "      <th>Sentiment</th>\n",
              "    </tr>\n",
              "  </thead>\n",
              "  <tbody>\n",
              "    <tr>\n",
              "      <th>0</th>\n",
              "      <td>The GeoSolutions technology will leverage Bene...</td>\n",
              "      <td>positive</td>\n",
              "    </tr>\n",
              "    <tr>\n",
              "      <th>1</th>\n",
              "      <td>$ESI on lows, down $1.50 to $2.50 BK a real po...</td>\n",
              "      <td>negative</td>\n",
              "    </tr>\n",
              "    <tr>\n",
              "      <th>2</th>\n",
              "      <td>For the last quarter of 2010 , Componenta 's n...</td>\n",
              "      <td>positive</td>\n",
              "    </tr>\n",
              "    <tr>\n",
              "      <th>3</th>\n",
              "      <td>According to the Finnish-Russian Chamber of Co...</td>\n",
              "      <td>neutral</td>\n",
              "    </tr>\n",
              "    <tr>\n",
              "      <th>4</th>\n",
              "      <td>The Swedish buyout firm has sold its remaining...</td>\n",
              "      <td>neutral</td>\n",
              "    </tr>\n",
              "  </tbody>\n",
              "</table>\n",
              "</div>\n",
              "      <button class=\"colab-df-convert\" onclick=\"convertToInteractive('df-28382e1c-b999-47f3-a58f-08321a58a65d')\"\n",
              "              title=\"Convert this dataframe to an interactive table.\"\n",
              "              style=\"display:none;\">\n",
              "        \n",
              "  <svg xmlns=\"http://www.w3.org/2000/svg\" height=\"24px\"viewBox=\"0 0 24 24\"\n",
              "       width=\"24px\">\n",
              "    <path d=\"M0 0h24v24H0V0z\" fill=\"none\"/>\n",
              "    <path d=\"M18.56 5.44l.94 2.06.94-2.06 2.06-.94-2.06-.94-.94-2.06-.94 2.06-2.06.94zm-11 1L8.5 8.5l.94-2.06 2.06-.94-2.06-.94L8.5 2.5l-.94 2.06-2.06.94zm10 10l.94 2.06.94-2.06 2.06-.94-2.06-.94-.94-2.06-.94 2.06-2.06.94z\"/><path d=\"M17.41 7.96l-1.37-1.37c-.4-.4-.92-.59-1.43-.59-.52 0-1.04.2-1.43.59L10.3 9.45l-7.72 7.72c-.78.78-.78 2.05 0 2.83L4 21.41c.39.39.9.59 1.41.59.51 0 1.02-.2 1.41-.59l7.78-7.78 2.81-2.81c.8-.78.8-2.07 0-2.86zM5.41 20L4 18.59l7.72-7.72 1.47 1.35L5.41 20z\"/>\n",
              "  </svg>\n",
              "      </button>\n",
              "      \n",
              "  <style>\n",
              "    .colab-df-container {\n",
              "      display:flex;\n",
              "      flex-wrap:wrap;\n",
              "      gap: 12px;\n",
              "    }\n",
              "\n",
              "    .colab-df-convert {\n",
              "      background-color: #E8F0FE;\n",
              "      border: none;\n",
              "      border-radius: 50%;\n",
              "      cursor: pointer;\n",
              "      display: none;\n",
              "      fill: #1967D2;\n",
              "      height: 32px;\n",
              "      padding: 0 0 0 0;\n",
              "      width: 32px;\n",
              "    }\n",
              "\n",
              "    .colab-df-convert:hover {\n",
              "      background-color: #E2EBFA;\n",
              "      box-shadow: 0px 1px 2px rgba(60, 64, 67, 0.3), 0px 1px 3px 1px rgba(60, 64, 67, 0.15);\n",
              "      fill: #174EA6;\n",
              "    }\n",
              "\n",
              "    [theme=dark] .colab-df-convert {\n",
              "      background-color: #3B4455;\n",
              "      fill: #D2E3FC;\n",
              "    }\n",
              "\n",
              "    [theme=dark] .colab-df-convert:hover {\n",
              "      background-color: #434B5C;\n",
              "      box-shadow: 0px 1px 3px 1px rgba(0, 0, 0, 0.15);\n",
              "      filter: drop-shadow(0px 1px 2px rgba(0, 0, 0, 0.3));\n",
              "      fill: #FFFFFF;\n",
              "    }\n",
              "  </style>\n",
              "\n",
              "      <script>\n",
              "        const buttonEl =\n",
              "          document.querySelector('#df-28382e1c-b999-47f3-a58f-08321a58a65d button.colab-df-convert');\n",
              "        buttonEl.style.display =\n",
              "          google.colab.kernel.accessAllowed ? 'block' : 'none';\n",
              "\n",
              "        async function convertToInteractive(key) {\n",
              "          const element = document.querySelector('#df-28382e1c-b999-47f3-a58f-08321a58a65d');\n",
              "          const dataTable =\n",
              "            await google.colab.kernel.invokeFunction('convertToInteractive',\n",
              "                                                     [key], {});\n",
              "          if (!dataTable) return;\n",
              "\n",
              "          const docLinkHtml = 'Like what you see? Visit the ' +\n",
              "            '<a target=\"_blank\" href=https://colab.research.google.com/notebooks/data_table.ipynb>data table notebook</a>'\n",
              "            + ' to learn more about interactive tables.';\n",
              "          element.innerHTML = '';\n",
              "          dataTable['output_type'] = 'display_data';\n",
              "          await google.colab.output.renderOutput(dataTable, element);\n",
              "          const docLink = document.createElement('div');\n",
              "          docLink.innerHTML = docLinkHtml;\n",
              "          element.appendChild(docLink);\n",
              "        }\n",
              "      </script>\n",
              "    </div>\n",
              "  </div>\n",
              "  "
            ]
          },
          "metadata": {},
          "execution_count": 2
        }
      ]
    },
    {
      "cell_type": "code",
      "source": [
        "\n",
        "data=data.drop_duplicates()\n",
        "data.info()"
      ],
      "metadata": {
        "colab": {
          "base_uri": "https://localhost:8080/"
        },
        "id": "fP_u52TapzwE",
        "outputId": "5b4e0c35-fc6b-41e2-e967-290f2b225472"
      },
      "execution_count": 3,
      "outputs": [
        {
          "output_type": "stream",
          "name": "stdout",
          "text": [
            "<class 'pandas.core.frame.DataFrame'>\n",
            "Int64Index: 5836 entries, 0 to 5841\n",
            "Data columns (total 2 columns):\n",
            " #   Column     Non-Null Count  Dtype \n",
            "---  ------     --------------  ----- \n",
            " 0   Sentence   5836 non-null   object\n",
            " 1   Sentiment  5836 non-null   object\n",
            "dtypes: object(2)\n",
            "memory usage: 136.8+ KB\n"
          ]
        }
      ]
    },
    {
      "cell_type": "code",
      "source": [
        "\n",
        "data.Sentiment.value_counts().plot.bar()"
      ],
      "metadata": {
        "colab": {
          "base_uri": "https://localhost:8080/",
          "height": 316
        },
        "id": "fcSBKyh6p234",
        "outputId": "7366ec9d-c283-4698-cbe1-d62c83a79646"
      },
      "execution_count": 4,
      "outputs": [
        {
          "output_type": "execute_result",
          "data": {
            "text/plain": [
              "<matplotlib.axes._subplots.AxesSubplot at 0x7fd922ab43a0>"
            ]
          },
          "metadata": {},
          "execution_count": 4
        },
        {
          "output_type": "display_data",
          "data": {
            "text/plain": [
              "<Figure size 432x288 with 1 Axes>"
            ],
            "image/png": "[encoded data removed]"
          },
          "metadata": {
            "needs_background": "light"
          }
        }
      ]
    },
    {
      "cell_type": "code",
      "source": [
        "# Data preprocessing\n",
        "\n",
        "# with removal of stopwords\n",
        "\n",
        "stopwords = nltk.corpus.stopwords.words('english')\n",
        "wn = nltk.WordNetLemmatizer()\n",
        "\n",
        "def clean_text(text):\n",
        "    text = \"\".join([word for word in text if word not in string.punctuation])\n",
        "    text_tokenize = re.split('\\W+', text)\n",
        "    text_nostop = [word for word in text_tokenize if word not in stopwords]\n",
        "    #text_stemm = [ps.stem(x) for x in text_nostop]\n",
        "    text_lemm = [wn.lemmatize(x) for x in text_nostop]\n",
        "    return text_lemm\n",
        "\n",
        "def clean_text_nostop(text):\n",
        "    text = \"\".join([word for word in text if word not in string.punctuation])\n",
        "    text_tokenize = re.split('\\W+', text)\n",
        "    text_lemm = [wn.lemmatize(x) for x in text_tokenize]\n",
        "    return text_lemm    \n",
        "\n",
        "data['text_clean'] = data['Sentence'].apply(lambda x: clean_text(x.lower()))\n",
        "data['text_clean_nostop'] = data['Sentence'].apply(lambda x: clean_text_nostop(x.lower()))\n",
        "data.head()"
      ],
      "metadata": {
        "colab": {
          "base_uri": "https://localhost:8080/",
          "height": 206
        },
        "id": "SduW4sOfp5dh",
        "outputId": "cece6c09-3585-4421-fcac-463e0ec30d87"
      },
      "execution_count": 5,
      "outputs": [
        {
          "output_type": "execute_result",
          "data": {
            "text/plain": [
              "                                            Sentence Sentiment  \\\n",
              "0  The GeoSolutions technology will leverage Bene...  positive   \n",
              "1  $ESI on lows, down $1.50 to $2.50 BK a real po...  negative   \n",
              "2  For the last quarter of 2010 , Componenta 's n...  positive   \n",
              "3  According to the Finnish-Russian Chamber of Co...   neutral   \n",
              "4  The Swedish buyout firm has sold its remaining...   neutral   \n",
              "\n",
              "                                          text_clean  \\\n",
              "0  [geosolutions, technology, leverage, benefon, ...   \n",
              "1        [esi, low, 150, 250, bk, real, possibility]   \n",
              "2  [last, quarter, 2010, componenta, net, sale, d...   \n",
              "3  [according, finnishrussian, chamber, commerce,...   \n",
              "4  [swedish, buyout, firm, sold, remaining, 224, ...   \n",
              "\n",
              "                                   text_clean_nostop  \n",
              "0  [the, geosolutions, technology, will, leverage...  \n",
              "1  [esi, on, low, down, 150, to, 250, bk, a, real...  \n",
              "2  [for, the, last, quarter, of, 2010, componenta...  \n",
              "3  [according, to, the, finnishrussian, chamber, ...  \n",
              "4  [the, swedish, buyout, firm, ha, sold, it, rem...  "
            ],
            "text/html": [
              "\n",
              "  <div id=\"df-6edbbe22-5206-49ae-a6c7-800895abb5d1\">\n",
              "    <div class=\"colab-df-container\">\n",
              "      <div>\n",
              "<style scoped>\n",
              "    .dataframe tbody tr th:only-of-type {\n",
              "        vertical-align: middle;\n",
              "    }\n",
              "\n",
              "    .dataframe tbody tr th {\n",
              "        vertical-align: top;\n",
              "    }\n",
              "\n",
              "    .dataframe thead th {\n",
              "        text-align: right;\n",
              "    }\n",
              "</style>\n",
              "<table border=\"1\" class=\"dataframe\">\n",
              "  <thead>\n",
              "    <tr style=\"text-align: right;\">\n",
              "      <th></th>\n",
              "      <th>Sentence</th>\n",
              "      <th>Sentiment</th>\n",
              "      <th>text_clean</th>\n",
              "      <th>text_clean_nostop</th>\n",
              "    </tr>\n",
              "  </thead>\n",
              "  <tbody>\n",
              "    <tr>\n",
              "      <th>0</th>\n",
              "      <td>The GeoSolutions technology will leverage Bene...</td>\n",
              "      <td>positive</td>\n",
              "      <td>[geosolutions, technology, leverage, benefon, ...</td>\n",
              "      <td>[the, geosolutions, technology, will, leverage...</td>\n",
              "    </tr>\n",
              "    <tr>\n",
              "      <th>1</th>\n",
              "      <td>$ESI on lows, down $1.50 to $2.50 BK a real po...</td>\n",
              "      <td>negative</td>\n",
              "      <td>[esi, low, 150, 250, bk, real, possibility]</td>\n",
              "      <td>[esi, on, low, down, 150, to, 250, bk, a, real...</td>\n",
              "    </tr>\n",
              "    <tr>\n",
              "      <th>2</th>\n",
              "      <td>For the last quarter of 2010 , Componenta 's n...</td>\n",
              "      <td>positive</td>\n",
              "      <td>[last, quarter, 2010, componenta, net, sale, d...</td>\n",
              "      <td>[for, the, last, quarter, of, 2010, componenta...</td>\n",
              "    </tr>\n",
              "    <tr>\n",
              "      <th>3</th>\n",
              "      <td>According to the Finnish-Russian Chamber of Co...</td>\n",
              "      <td>neutral</td>\n",
              "      <td>[according, finnishrussian, chamber, commerce,...</td>\n",
              "      <td>[according, to, the, finnishrussian, chamber, ...</td>\n",
              "    </tr>\n",
              "    <tr>\n",
              "      <th>4</th>\n",
              "      <td>The Swedish buyout firm has sold its remaining...</td>\n",
              "      <td>neutral</td>\n",
              "      <td>[swedish, buyout, firm, sold, remaining, 224, ...</td>\n",
              "      <td>[the, swedish, buyout, firm, ha, sold, it, rem...</td>\n",
              "    </tr>\n",
              "  </tbody>\n",
              "</table>\n",
              "</div>\n",
              "      <button class=\"colab-df-convert\" onclick=\"convertToInteractive('df-6edbbe22-5206-49ae-a6c7-800895abb5d1')\"\n",
              "              title=\"Convert this dataframe to an interactive table.\"\n",
              "              style=\"display:none;\">\n",
              "        \n",
              "  <svg xmlns=\"http://www.w3.org/2000/svg\" height=\"24px\"viewBox=\"0 0 24 24\"\n",
              "       width=\"24px\">\n",
              "    <path d=\"M0 0h24v24H0V0z\" fill=\"none\"/>\n",
              "    <path d=\"M18.56 5.44l.94 2.06.94-2.06 2.06-.94-2.06-.94-.94-2.06-.94 2.06-2.06.94zm-11 1L8.5 8.5l.94-2.06 2.06-.94-2.06-.94L8.5 2.5l-.94 2.06-2.06.94zm10 10l.94 2.06.94-2.06 2.06-.94-2.06-.94-.94-2.06-.94 2.06-2.06.94z\"/><path d=\"M17.41 7.96l-1.37-1.37c-.4-.4-.92-.59-1.43-.59-.52 0-1.04.2-1.43.59L10.3 9.45l-7.72 7.72c-.78.78-.78 2.05 0 2.83L4 21.41c.39.39.9.59 1.41.59.51 0 1.02-.2 1.41-.59l7.78-7.78 2.81-2.81c.8-.78.8-2.07 0-2.86zM5.41 20L4 18.59l7.72-7.72 1.47 1.35L5.41 20z\"/>\n",
              "  </svg>\n",
              "      </button>\n",
              "      \n",
              "  <style>\n",
              "    .colab-df-container {\n",
              "      display:flex;\n",
              "      flex-wrap:wrap;\n",
              "      gap: 12px;\n",
              "    }\n",
              "\n",
              "    .colab-df-convert {\n",
              "      background-color: #E8F0FE;\n",
              "      border: none;\n",
              "      border-radius: 50%;\n",
              "      cursor: pointer;\n",
              "      display: none;\n",
              "      fill: #1967D2;\n",
              "      height: 32px;\n",
              "      padding: 0 0 0 0;\n",
              "      width: 32px;\n",
              "    }\n",
              "\n",
              "    .colab-df-convert:hover {\n",
              "      background-color: #E2EBFA;\n",
              "      box-shadow: 0px 1px 2px rgba(60, 64, 67, 0.3), 0px 1px 3px 1px rgba(60, 64, 67, 0.15);\n",
              "      fill: #174EA6;\n",
              "    }\n",
              "\n",
              "    [theme=dark] .colab-df-convert {\n",
              "      background-color: #3B4455;\n",
              "      fill: #D2E3FC;\n",
              "    }\n",
              "\n",
              "    [theme=dark] .colab-df-convert:hover {\n",
              "      background-color: #434B5C;\n",
              "      box-shadow: 0px 1px 3px 1px rgba(0, 0, 0, 0.15);\n",
              "      filter: drop-shadow(0px 1px 2px rgba(0, 0, 0, 0.3));\n",
              "      fill: #FFFFFF;\n",
              "    }\n",
              "  </style>\n",
              "\n",
              "      <script>\n",
              "        const buttonEl =\n",
              "          document.querySelector('#df-6edbbe22-5206-49ae-a6c7-800895abb5d1 button.colab-df-convert');\n",
              "        buttonEl.style.display =\n",
              "          google.colab.kernel.accessAllowed ? 'block' : 'none';\n",
              "\n",
              "        async function convertToInteractive(key) {\n",
              "          const element = document.querySelector('#df-6edbbe22-5206-49ae-a6c7-800895abb5d1');\n",
              "          const dataTable =\n",
              "            await google.colab.kernel.invokeFunction('convertToInteractive',\n",
              "                                                     [key], {});\n",
              "          if (!dataTable) return;\n",
              "\n",
              "          const docLinkHtml = 'Like what you see? Visit the ' +\n",
              "            '<a target=\"_blank\" href=https://colab.research.google.com/notebooks/data_table.ipynb>data table notebook</a>'\n",
              "            + ' to learn more about interactive tables.';\n",
              "          element.innerHTML = '';\n",
              "          dataTable['output_type'] = 'display_data';\n",
              "          await google.colab.output.renderOutput(dataTable, element);\n",
              "          const docLink = document.createElement('div');\n",
              "          docLink.innerHTML = docLinkHtml;\n",
              "          element.appendChild(docLink);\n",
              "        }\n",
              "      </script>\n",
              "    </div>\n",
              "  </div>\n",
              "  "
            ]
          },
          "metadata": {},
          "execution_count": 5
        }
      ]
    },
    {
      "cell_type": "code",
      "source": [
        "\n",
        "#labeling target variable\n",
        "dict_label= {'positive': 0, 'neutral': 0 , 'negative': 1}\n",
        "data.Sentiment = data.Sentiment.map(dict_label)\n",
        "#one hot encoding of label for cnn\n",
        "y_ohe = pd.get_dummies(data['Sentiment'])"
      ],
      "metadata": {
        "id": "EzP2YEvvp75S"
      },
      "execution_count": 6,
      "outputs": []
    },
    {
      "cell_type": "code",
      "source": [
        "# CLASSIFFIERS\n",
        "def plot_conf(ypred,y_test):\n",
        "    cf_matrix = confusion_matrix( ypred,y_test)\n",
        "    ax= plt.subplot()\n",
        "    sns.heatmap(cf_matrix,annot=True,ax=ax, cmap=\"BuPu\")\n",
        "    ax.set_xlabel('Predicted labels')\n",
        "    ax.set_ylabel('True labels')\n",
        "    ax.set_title('Confusion Matrix')\n",
        "    \n",
        " \n",
        "\n",
        "#model_1- Logistic Regression \n",
        "\n",
        "def LogReg_bow_tfidf_ngram(data = data,bow = False,TFIDF = False,Ngram = False, stopw=False):\n",
        "  X = data.sample(frac=1).reset_index(drop= True) # this shuffle data and reset index\n",
        "  y = data.Sentiment.values\n",
        "  if bow and stopw:\n",
        "        count_vec = CountVectorizer(tokenizer = word_tokenize, analyzer=clean_text,token_pattern=None)\n",
        "  elif TFIDF and stopw:\n",
        "      count_vec = TfidfVectorizer(tokenizer = word_tokenize, analyzer=clean_text,token_pattern=None)\n",
        "  elif Ngram and stopw:\n",
        "      count_vec = CountVectorizer(tokenizer = word_tokenize,analyzer=clean_text, token_pattern=None, ngram_range = (1, 3))\n",
        "  elif bow:  \n",
        "       count_vec = CountVectorizer(tokenizer = word_tokenize, analyzer=clean_text_nostop,token_pattern=None)\n",
        "  elif TFIDF:\n",
        "       count_vec = TfidfVectorizer(tokenizer = word_tokenize, analyzer=clean_text_nostop,token_pattern=None)\n",
        "  elif Ngram: \n",
        "      count_vec = CountVectorizer(tokenizer = word_tokenize,analyzer=clean_text_nostop, token_pattern=None, ngram_range = (1, 3))   \n",
        "    \n",
        "  model=LogisticRegression(solver = 'liblinear')\n",
        "  skf = StratifiedKFold(n_splits=5)\n",
        "  lst_accu_stratified=[]\n",
        "  for i, (train_index, test_index) in enumerate(skf.split(X, y)):\n",
        "        \n",
        "        X_train=X.iloc[train_index,:]\n",
        "        X_test=X.iloc[test_index,:]\n",
        "        y_train=y[train_index]\n",
        "        y_test=y[test_index]\n",
        "\n",
        "        Xtrain_countVec = count_vec.fit_transform(X_train['Sentence'])\n",
        "        Xtest_countVec = count_vec.transform(X_test['Sentence'])\n",
        "        \n",
        "        model.fit(Xtrain_countVec,y_train)\n",
        "        y_pred = model.predict(Xtest_countVec)\n",
        "        \n",
        "        accuracy_precision = precision_score(y_test, y_pred, average='micro')\n",
        "        accuracy_recall = recall_score(y_test, y_pred, average='micro')\n",
        "        lst_accu_stratified.append([accuracy_precision,accuracy_recall])\n",
        "  \n",
        "        #print('precision score:', accuracy_precision)\n",
        "        #print('recall score:', accuracy_recall)\n",
        "        #print(\"========================================================\")\n",
        "  print('Overall precision and recall:',np.mean(lst_accu_stratified,axis=0))\n",
        "  plot_conf(y_test, y_pred) "
      ],
      "metadata": {
        "id": "nuH_cdlcp-IL"
      },
      "execution_count": 9,
      "outputs": []
    },
    {
      "cell_type": "code",
      "source": [
        "# Logistic Regression+ BOW+ text without stopwords\n",
        "LogReg_bow_tfidf_ngram(data = data,bow = True,TFIDF = False,Ngram = False,stopw=True)"
      ],
      "metadata": {
        "colab": {
          "base_uri": "https://localhost:8080/",
          "height": 312
        },
        "id": "o6oPTUPTqA9N",
        "outputId": "8d66c4af-8eb9-4e20-e734-a70121a3b33c"
      },
      "execution_count": 10,
      "outputs": [
        {
          "output_type": "stream",
          "name": "stdout",
          "text": [
            "Overall precision and recall: [0.82865047 0.82865047]\n"
          ]
        },
        {
          "output_type": "display_data",
          "data": {
            "text/plain": [
              "<Figure size 432x288 with 2 Axes>"
            ],
            "image/png": "[encoded data removed]"
          },
          "metadata": {
            "needs_background": "light"
          }
        }
      ]
    },
    {
      "cell_type": "code",
      "source": [
        "# Logistic Regression+ TFIDF+ text without stopwords\n",
        "model2=LogReg_bow_tfidf_ngram(data = data,bow = False,TFIDF = True,Ngram = False,stopw=True)"
      ],
      "metadata": {
        "colab": {
          "base_uri": "https://localhost:8080/",
          "height": 312
        },
        "id": "CRVWy5lAqjOc",
        "outputId": "8be4f5c3-f8cb-4e99-ea23-215aa4311964"
      },
      "execution_count": 11,
      "outputs": [
        {
          "output_type": "stream",
          "name": "stdout",
          "text": [
            "Overall precision and recall: [0.85263878 0.85263878]\n"
          ]
        },
        {
          "output_type": "display_data",
          "data": {
            "text/plain": [
              "<Figure size 432x288 with 2 Axes>"
            ],
            "image/png": "[encoded data removed]"
          },
          "metadata": {
            "needs_background": "light"
          }
        }
      ]
    },
    {
      "cell_type": "code",
      "source": [
        "# Logistic Regression+ Ngram=3+ text without stopwords\n",
        "model3=LogReg_bow_tfidf_ngram(data = data,bow = False,TFIDF = False,Ngram = True,stopw=True)"
      ],
      "metadata": {
        "colab": {
          "base_uri": "https://localhost:8080/",
          "height": 312
        },
        "id": "JlHG8GtlqsGk",
        "outputId": "c66f0e7c-c1a2-4d69-94f1-448ef742624f"
      },
      "execution_count": 12,
      "outputs": [
        {
          "output_type": "stream",
          "name": "stdout",
          "text": [
            "Overall precision and recall: [0.82882053 0.82882053]\n"
          ]
        },
        {
          "output_type": "display_data",
          "data": {
            "text/plain": [
              "<Figure size 432x288 with 2 Axes>"
            ],
            "image/png": "[encoded data removed]"
          },
          "metadata": {
            "needs_background": "light"
          }
        }
      ]
    },
    {
      "cell_type": "code",
      "source": [],
      "metadata": {
        "id": "j1zCjQJeqsUY"
      },
      "execution_count": null,
      "outputs": []
    },
    {
      "cell_type": "code",
      "source": [],
      "metadata": {
        "id": "S8IJIHA5qsfy"
      },
      "execution_count": null,
      "outputs": []
    },
    {
      "cell_type": "code",
      "source": [],
      "metadata": {
        "id": "rETYC8Aiqsqc"
      },
      "execution_count": null,
      "outputs": []
    }
  ]
}